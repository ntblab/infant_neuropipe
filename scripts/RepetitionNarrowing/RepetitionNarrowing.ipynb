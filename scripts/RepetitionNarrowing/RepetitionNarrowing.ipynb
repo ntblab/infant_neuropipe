{
 "cells": [
  {
   "cell_type": "markdown",
   "id": "2148b083",
   "metadata": {},
   "source": [
    "# Perform repetition narrowing analyses in pre and post lockdown infants\n",
    "\n",
    "This notebook performs analyses on data from a repetition suppression task to look at face processing and recreates figures in the manuscript. It uses files created from various scripts as described in the README and preprocessed data, assumed to be saved in `data/RepetitionNarrowing/`.\n",
    "\n",
    "Note: p values may differ from those reported in the manuscript because of random seeds.\n",
    "\n",
    "**Table of Contents**\n",
    ">[Set up](#setup)  \n",
    ">[Participant summary information](#descriptives)     \n",
    ">[Behavioral analyses](#behavior)  \n",
    ">[Human face processing in infant FFA](#looFFA)  \n",
    ">[Human face processing in broader ROIs](#human)  \n",
    ">[Sheep face processing in broader ROIs](#sheep)  "
   ]
  },
  {
   "cell_type": "markdown",
   "id": "8c32a213",
   "metadata": {},
   "source": [
    "## Set up <a id='setup'></a>"
   ]
  },
  {
   "cell_type": "code",
   "execution_count": 1,
   "id": "ccbcb17c",
   "metadata": {
    "scrolled": true
   },
   "outputs": [
    {
     "data": {
      "application/javascript": [
       "IPython.notebook.set_autosave_interval(5000)"
      ]
     },
     "metadata": {},
     "output_type": "display_data"
    },
    {
     "name": "stdout",
     "output_type": "stream",
     "text": [
      "Autosaving every 5 seconds\n"
     ]
    }
   ],
   "source": [
    "%matplotlib inline\n",
    "%autosave 5\n",
    "\n",
    "# suppress warning\n",
    "import warnings \n",
    "warnings.filterwarnings('ignore')\n",
    "\n",
    "# Import a bunch of stuff \n",
    "from matplotlib import pyplot as plt\n",
    "import matplotlib.image as mpimg\n",
    "import seaborn as sns\n",
    "import numpy as np\n",
    "import pandas as pd\n",
    "import sys\n",
    "import os\n",
    "from os import path\n",
    "import glob\n",
    "from scipy import stats\n",
    "from scipy.io import loadmat\n",
    "from nilearn import plotting\n",
    "from nilearn.input_data import NiftiMasker\n",
    "import nibabel as nib\n",
    "\n"
   ]
  },
  {
   "cell_type": "code",
   "execution_count": 2,
   "id": "3cff8b50",
   "metadata": {},
   "outputs": [],
   "source": [
    "# Get the base directory\n",
    "curr_dir = os.getcwd()\n",
    "os.chdir('../../') # Move into the infant neuropipe root\n",
    "base_dir = os.getcwd() + '/'\n",
    "os.chdir(curr_dir) # Come back\n",
    "\n",
    "# Set the data directories\n",
    "behav_dir =  base_dir + 'data/RepetitionNarrowing/looking_behavior/'\n",
    "roi_dir =  base_dir + 'data/RepetitionNarrowing/ROIs/' \n",
    "zstat_dir =  base_dir + 'data/RepetitionNarrowing/contrast_maps/'\n",
    "loo_dir =  base_dir + 'data/RepetitionNarrowing/LOO_contrast_maps/'\n",
    "save_plot_dir = base_dir + 'data/RepetitionNarrowing/plots/'\n",
    "\n",
    "# What are the names of the meta-analysis ROIs?\n",
    "rois=['bilateral_FFA','bilateral_OFA','bilateral_STS','bilateral_Amyg','rIFG_mask_1mm']\n",
    "\n",
    "# plotting colors for face ROIS\n",
    "colors=np.array([['darkslateblue','rebeccapurple','orchid','indianred','orange'],\n",
    "               ['lightsteelblue','mediumpurple','plum','lightcoral','bisque']])\n",
    "\n",
    "# What are the names of the control ROIs?\n",
    "control_rois=['V1_sphere_1mm','bilateral_A1']\n",
    "\n",
    "# plotting colors for control ROIs\n",
    "control_colors=np.array([['teal','darkolivegreen'],\n",
    "               ['mediumturquoise','olivedrab']])\n",
    "\n",
    "# Which z stats are the most important here? 4- Novel 5- Repeat 1- Contrast of Novel - Repeat  \n",
    "zstats=[4,5,1]"
   ]
  },
  {
   "cell_type": "markdown",
   "id": "bfe1e477",
   "metadata": {},
   "source": [
    "### Functions \n",
    "Define a bunch of functions that will be used in this notebook"
   ]
  },
  {
   "cell_type": "code",
   "execution_count": 3,
   "id": "2aef5f54",
   "metadata": {},
   "outputs": [],
   "source": [
    "def bootstrap_mean(data,null_vall=0,nPerm=1000):\n",
    "    '''Bootstrap resampling for the mean of the data'''\n",
    "    perm_dist=[]\n",
    "    for perm in range(nPerm):\n",
    "        sampidx=np.random.choice(np.arange(len(data)),len(data),replace=True)\n",
    "        randomsamp=np.array(data)[sampidx]\n",
    "        perm_dist.append(np.nanmean(randomsamp))\n",
    "    \n",
    "    # calculate 2 way pval\n",
    "    if np.nanmean(data) < null_vall:\n",
    "        pval=np.sum(np.array(perm_dist)>=null_vall)/nPerm*2\n",
    "    else:\n",
    "        pval=np.sum(np.array(perm_dist)<=null_vall)/nPerm*2\n",
    "    \n",
    "    CIs =[np.percentile(perm_dist, 2.5), np.percentile(perm_dist, 97.5)]\n",
    "    \n",
    "    # If the value is greater than 1 then subtract 2\n",
    "    if pval > 1:\n",
    "        pval = 2 - pval\n",
    "          \n",
    "    return pval, CIs\n",
    "\n",
    "def randomise_diff_2sample(data_1, data_2, resample_num=1000):        \n",
    "    '''Bootstrap resampling independent samples. \n",
    "    Take N samples with replacement from each group separately, average within group and then subtract. \n",
    "    Do this X times and report the p value of the number of samples in the opposite direction \n",
    "    from the true effect'''\n",
    "    \n",
    "    # Resample the participants\n",
    "    resample_diff = []\n",
    "    for i in range(resample_num):\n",
    "        \n",
    "        # Determine what participants to use in the sample\n",
    "        sub_idx_1 = np.random.randint(0, len(data_1), (1, len(data_1)))\n",
    "        \n",
    "        sub_idx_2 = np.random.randint(0, len(data_2), (1, len(data_2)))\n",
    "\n",
    "        resample_diff += [np.mean(data_1[sub_idx_1]) - np.mean(data_2[sub_idx_2])]\n",
    "    \n",
    "    # calculate the 2 way p value\n",
    "    p_val = (1 - ((np.sum(np.asarray(resample_diff) >= 0)) / (resample_num))) * 2\n",
    "    \n",
    "    # If the value is greater than 1 then subtract 2\n",
    "    if p_val > 1:\n",
    "        p_val = 2 - p_val\n",
    "    \n",
    "    CIs =[np.percentile(resample_diff, 2.5), np.percentile(resample_diff, 97.5)]\n",
    "    \n",
    "    mean_diff = np.mean(data_1) - np.mean(data_2)\n",
    "    \n",
    "    # return the difference in ROI and \n",
    "    return p_val, mean_diff, CIs\n",
    "\n",
    "def draw_sig(pval,num_comp,xpos,ypos,subplot=False):\n",
    "    '''Draw significance stars on a plot given the pval, number of comparisons and x and y positions'''\n",
    "    if pval<0.001/num_comp:\n",
    "        text='***'\n",
    "    elif pval<0.01/num_comp:\n",
    "        text='**'\n",
    "    elif pval<0.05/num_comp:\n",
    "        text='*'\n",
    "    elif pval<0.1/num_comp:\n",
    "        text='~'\n",
    "    else:\n",
    "        text=''\n",
    "    \n",
    "    if subplot==False:\n",
    "        plt.annotate(text,(xpos,ypos),fontsize=14)\n",
    "    else:\n",
    "        subplot.annotate(text,(xpos,ypos),fontsize=14)\n",
    "\n",
    "def mask_roi_contrasts(ppts,glm_contrast='human_pairs',zstats=zstats,roi_name='bilateral_FFA'):\n",
    "    '''Mask a group of participant's data for a given GLM contrast and z-statistics using a given ROI '''\n",
    "    \n",
    "    # Which ROI do we want?\n",
    "    intersect_mask_name=roi_dir+'intersect_'+roi_name+'.nii.gz'\n",
    "    roi = nib.load(intersect_mask_name)\n",
    "    masker=NiftiMasker(roi)\n",
    "    mask_shape=masker.fit_transform(roi)\n",
    "\n",
    "    # preset the data to be zstat values by number of participants\n",
    "    data_all=np.zeros((len(zstats),len(ppts)))\n",
    "    \n",
    "    # cycle through zstats and ppts\n",
    "    for z, zstat in enumerate(zstats):\n",
    "        for p, ppt in enumerate(ppts):\n",
    "            \n",
    "            # Fit it to the subject's data \n",
    "            subdata=nib.load('%s/%s_%s_zstat%d.nii.gz' %(zstat_dir,ppt,glm_contrast,zstat))\n",
    "            data_roi=masker.fit_transform(subdata)[0]\n",
    "            \n",
    "            # add the average across all voxels in this ROI \n",
    "            data_all[z,p]=np.nanmean(data_roi) \n",
    "\n",
    "    return data_all\n",
    "\n",
    "def roi_results_wrapper(temp_rois=rois,temp_colors=colors,roi_group='face',glm_contrast='human_pairs',plot=True):\n",
    "    ''' Wrapper function for ROI results that takes a list of rois (and plotting colors), \n",
    "    the name of that roi group, and the GLM contrast where the zstats will be coming from.\n",
    "    For each ROI, the participant data is masked and re-grouped into pre and post-lockdown participants,\n",
    "    then plotted using seaborn, and the statistics are reported \n",
    "    '''\n",
    "        \n",
    "    # preset pre and post lockdown results\n",
    "    pre_lockdown_results=[]\n",
    "    post_lockdown_results=[]\n",
    "    \n",
    "    print('Loading files for %s rois with %s contrast (may take some time)' %(roi_group,glm_contrast))\n",
    "    \n",
    "    # cycle through rois\n",
    "    for roi_name in temp_rois:\n",
    "        \n",
    "        # Mask the data for these participants -- easier to use all of the participants now so we don't \n",
    "        # have to reload the same masks over again\n",
    "        data=mask_roi_contrasts(np.array(df.ppt),\n",
    "                               glm_contrast=glm_contrast,\n",
    "                               zstats=zstats, # 4-novel, 5-repeat, 1-novel - repeat\n",
    "                               roi_name=roi_name)\n",
    "        \n",
    "        # now we can save out the participant data in different arrays so we don't mix up pre and post groups\n",
    "        pre_lockdown_results.append(data[:,pre_idxs])\n",
    "        post_lockdown_results.append(data[:,post_idxs])\n",
    "        \n",
    "        print('Loaded %s' % roi_name)\n",
    "        \n",
    "    # Reshape the data so that it is in a plottable format \n",
    "    # now, we've also insured that all pre lockdown infants precede all post lockdown infants\n",
    "    stacked_results=np.dstack((pre_lockdown_results,post_lockdown_results)) # ? ROIs x  3 zstats x 12 subjects \n",
    "    \n",
    "    # Make a list of the group IDs the same length and order as stacked_results\n",
    "    group_ids=np.hstack((np.repeat('pre_lockdown',np.stack(post_lockdown_results).shape[2]),\n",
    "                       np.repeat('post_lockdown',np.stack(post_lockdown_results).shape[2])))\n",
    "    \n",
    "    # set seed for analyses\n",
    "    np.random.seed(0)\n",
    "\n",
    "    # preset results dict\n",
    "    results_dict=dict()\n",
    "    \n",
    "    if plot==True:\n",
    "        fig, ax = plt.subplots(1, len(temp_rois), figsize=(15, 5), sharey=True)\n",
    "        ax[0].set_xlim(-0.5,1.5)\n",
    "    \n",
    "    print()\n",
    "    \n",
    "    # cycle through th ROIs for plotting and statistics\n",
    "    for r, roi_name in enumerate(temp_rois):\n",
    "        \n",
    "        # preset\n",
    "        data_all=[]\n",
    "        zstats_all=[]\n",
    "        groups_all=[]\n",
    "        \n",
    "        # cycle through the zstats\n",
    "        for z, zstat in enumerate(zstats):\n",
    "\n",
    "            # ONLY plot the repeat and novel and not their contrast\n",
    "            if zstat!=1:\n",
    "                data_all.extend(stacked_results[r,z,:]) # get the data for this roi and zstat\n",
    "                zstats_all.extend(np.repeat(zstat,stacked_results.shape[2])) # save a list of the zstat name with the same length\n",
    "                groups_all.extend(group_ids) # save a list of the group IDs with the same length\n",
    "\n",
    "        # make the data frame for plotting\n",
    "        neural_df=pd.DataFrame({'Data':data_all,'Group':groups_all,'Zstat':zstats_all})\n",
    "        \n",
    "        # save this for later! \n",
    "        results_dict[roi_name]=neural_df\n",
    "                \n",
    "        if plot==True:\n",
    "            bar=sns.barplot(x='Group',y='Data',hue='Zstat',data=neural_df,ax=ax[r],\n",
    "                        palette=temp_colors[:,r], alpha=0.8,ci=False)\n",
    "            g=sns.swarmplot(x='Group',y='Data',hue='Zstat',data=neural_df,ax=ax[r],dodge=True,\n",
    "                        palette=temp_colors[:,r], alpha=1)\n",
    "\n",
    "            ax[r].get_legend().remove() # remove the legend\n",
    "            ax[r].set_ylabel('')\n",
    "            ax[r].set_title(roi_name)\n",
    "\n",
    "        # Now report stuff\n",
    "        print(roi_name)\n",
    "        \n",
    "        # pre lockdown group (using the zstat for the contrast)\n",
    "        pre_lockdown_contrast=stacked_results[r,np.array(zstats)==1,group_ids=='pre_lockdown'] \n",
    "        pval,CIs=bootstrap_mean(pre_lockdown_contrast,null_vall=0,nPerm=1000)\n",
    "        print('pre_lockdown: Novel > Repeat : %0.3f (%0.3f -- %0.3f), p=%0.3f' %(\n",
    "            np.nanmean(pre_lockdown_contrast),CIs[0],CIs[1],pval))\n",
    "        if plot==True:\n",
    "            draw_sig(pval,1,0,2.5,subplot=ax[r])\n",
    "\n",
    "        # post lockdown group (using the zstat for the contrast)\n",
    "        post_lockdown_contrast=stacked_results[r,np.array(zstats)==1,group_ids=='post_lockdown']\n",
    "        pval,CIs=bootstrap_mean(post_lockdown_contrast,null_vall=0,nPerm=1000)\n",
    "        print('post_lockdown: Novel > Repeat : %0.3f (%0.3f -- %0.3f), p=%0.3f' %(\n",
    "            np.nanmean(post_lockdown_contrast),CIs[0],CIs[1],pval))\n",
    "        if plot==True:\n",
    "            draw_sig(pval,1,1,2.5,subplot=ax[r])\n",
    "\n",
    "        # difference contrast \n",
    "        pval, mean_diff, CIs=randomise_diff_2sample(pre_lockdown_contrast, post_lockdown_contrast, resample_num=10000)\n",
    "        print('Difference across groups: %0.3f (%0.3f -- %0.3f), p=%0.3f' %(mean_diff,CIs[0],CIs[1],pval))\n",
    "        if plot==True:\n",
    "            draw_sig(pval,1,0.5,3,subplot=ax[r])\n",
    "    \n",
    "        print()\n",
    "    \n",
    "    if plot==True:\n",
    "        plt.show()\n",
    "        fig.savefig('%s/%s_rois_%s.svg' %(save_plot_dir,roi_group,glm_contrast))\n",
    "    \n",
    "    return results_dict"
   ]
  },
  {
   "cell_type": "markdown",
   "id": "1588cec4",
   "metadata": {},
   "source": [
    "## Participant summary information <a id='descriptives'></a>"
   ]
  },
  {
   "cell_type": "markdown",
   "id": "b96ec7ac",
   "metadata": {},
   "source": [
    "Load the participant information and report some summary statistics"
   ]
  },
  {
   "cell_type": "code",
   "execution_count": 4,
   "id": "33698635",
   "metadata": {},
   "outputs": [
    {
     "data": {
      "text/html": [
       "<div>\n",
       "<style scoped>\n",
       "    .dataframe tbody tr th:only-of-type {\n",
       "        vertical-align: middle;\n",
       "    }\n",
       "\n",
       "    .dataframe tbody tr th {\n",
       "        vertical-align: top;\n",
       "    }\n",
       "\n",
       "    .dataframe thead th {\n",
       "        text-align: right;\n",
       "    }\n",
       "</style>\n",
       "<table border=\"1\" class=\"dataframe\">\n",
       "  <thead>\n",
       "    <tr style=\"text-align: right;\">\n",
       "      <th></th>\n",
       "      <th>ppt</th>\n",
       "      <th>Age</th>\n",
       "      <th>Sex</th>\n",
       "      <th>prop_TR_included</th>\n",
       "      <th>Human_Rep</th>\n",
       "      <th>Human_Nov</th>\n",
       "      <th>Sheep_Rep</th>\n",
       "      <th>Sheep_Nov</th>\n",
       "      <th>Scenes_Nov</th>\n",
       "      <th>Total_blocks</th>\n",
       "      <th>eye_reliability</th>\n",
       "      <th>coder_num</th>\n",
       "      <th>Post Lockdown Group</th>\n",
       "      <th>days_quarantine</th>\n",
       "    </tr>\n",
       "  </thead>\n",
       "  <tbody>\n",
       "    <tr>\n",
       "      <th>0</th>\n",
       "      <td>s8687_1_5</td>\n",
       "      <td>17.1</td>\n",
       "      <td>F</td>\n",
       "      <td>1.000000</td>\n",
       "      <td>3</td>\n",
       "      <td>3</td>\n",
       "      <td>3</td>\n",
       "      <td>3</td>\n",
       "      <td>3</td>\n",
       "      <td>15</td>\n",
       "      <td>0.976324</td>\n",
       "      <td>2</td>\n",
       "      <td>0</td>\n",
       "      <td>0</td>\n",
       "    </tr>\n",
       "    <tr>\n",
       "      <th>1</th>\n",
       "      <td>s8687_2_1</td>\n",
       "      <td>10.7</td>\n",
       "      <td>F</td>\n",
       "      <td>0.974684</td>\n",
       "      <td>3</td>\n",
       "      <td>2</td>\n",
       "      <td>3</td>\n",
       "      <td>3</td>\n",
       "      <td>3</td>\n",
       "      <td>14</td>\n",
       "      <td>0.934509</td>\n",
       "      <td>2</td>\n",
       "      <td>1</td>\n",
       "      <td>244</td>\n",
       "    </tr>\n",
       "    <tr>\n",
       "      <th>4</th>\n",
       "      <td>s6687_1_5</td>\n",
       "      <td>18.1</td>\n",
       "      <td>F</td>\n",
       "      <td>1.000000</td>\n",
       "      <td>3</td>\n",
       "      <td>3</td>\n",
       "      <td>3</td>\n",
       "      <td>3</td>\n",
       "      <td>3</td>\n",
       "      <td>15</td>\n",
       "      <td>0.974043</td>\n",
       "      <td>2</td>\n",
       "      <td>0</td>\n",
       "      <td>0</td>\n",
       "    </tr>\n",
       "    <tr>\n",
       "      <th>5</th>\n",
       "      <td>s4607_1_4</td>\n",
       "      <td>13.0</td>\n",
       "      <td>F</td>\n",
       "      <td>0.982353</td>\n",
       "      <td>2</td>\n",
       "      <td>2</td>\n",
       "      <td>2</td>\n",
       "      <td>2</td>\n",
       "      <td>2</td>\n",
       "      <td>10</td>\n",
       "      <td>0.928697</td>\n",
       "      <td>2</td>\n",
       "      <td>0</td>\n",
       "      <td>0</td>\n",
       "    </tr>\n",
       "    <tr>\n",
       "      <th>6</th>\n",
       "      <td>s4607_1_6</td>\n",
       "      <td>16.9</td>\n",
       "      <td>F</td>\n",
       "      <td>1.000000</td>\n",
       "      <td>2</td>\n",
       "      <td>2</td>\n",
       "      <td>2</td>\n",
       "      <td>2</td>\n",
       "      <td>2</td>\n",
       "      <td>10</td>\n",
       "      <td>0.970920</td>\n",
       "      <td>2</td>\n",
       "      <td>0</td>\n",
       "      <td>0</td>\n",
       "    </tr>\n",
       "    <tr>\n",
       "      <th>15</th>\n",
       "      <td>s6057_1_6</td>\n",
       "      <td>23.8</td>\n",
       "      <td>M</td>\n",
       "      <td>1.000000</td>\n",
       "      <td>2</td>\n",
       "      <td>2</td>\n",
       "      <td>2</td>\n",
       "      <td>2</td>\n",
       "      <td>2</td>\n",
       "      <td>10</td>\n",
       "      <td>0.960978</td>\n",
       "      <td>2</td>\n",
       "      <td>1</td>\n",
       "      <td>213</td>\n",
       "    </tr>\n",
       "    <tr>\n",
       "      <th>21</th>\n",
       "      <td>s8037_1_2</td>\n",
       "      <td>12.2</td>\n",
       "      <td>F</td>\n",
       "      <td>0.976471</td>\n",
       "      <td>3</td>\n",
       "      <td>3</td>\n",
       "      <td>3</td>\n",
       "      <td>3</td>\n",
       "      <td>3</td>\n",
       "      <td>15</td>\n",
       "      <td>0.934036</td>\n",
       "      <td>2</td>\n",
       "      <td>0</td>\n",
       "      <td>0</td>\n",
       "    </tr>\n",
       "    <tr>\n",
       "      <th>29</th>\n",
       "      <td>s7067_1_3</td>\n",
       "      <td>9.2</td>\n",
       "      <td>F</td>\n",
       "      <td>1.000000</td>\n",
       "      <td>3</td>\n",
       "      <td>3</td>\n",
       "      <td>3</td>\n",
       "      <td>3</td>\n",
       "      <td>3</td>\n",
       "      <td>15</td>\n",
       "      <td>0.949309</td>\n",
       "      <td>3</td>\n",
       "      <td>0</td>\n",
       "      <td>0</td>\n",
       "    </tr>\n",
       "    <tr>\n",
       "      <th>39</th>\n",
       "      <td>s7047_1_2</td>\n",
       "      <td>17.6</td>\n",
       "      <td>F</td>\n",
       "      <td>1.000000</td>\n",
       "      <td>3</td>\n",
       "      <td>3</td>\n",
       "      <td>3</td>\n",
       "      <td>3</td>\n",
       "      <td>3</td>\n",
       "      <td>15</td>\n",
       "      <td>0.957972</td>\n",
       "      <td>2</td>\n",
       "      <td>1</td>\n",
       "      <td>216</td>\n",
       "    </tr>\n",
       "    <tr>\n",
       "      <th>45</th>\n",
       "      <td>s3097_1_4</td>\n",
       "      <td>13.4</td>\n",
       "      <td>F</td>\n",
       "      <td>0.865546</td>\n",
       "      <td>3</td>\n",
       "      <td>3</td>\n",
       "      <td>2</td>\n",
       "      <td>3</td>\n",
       "      <td>3</td>\n",
       "      <td>14</td>\n",
       "      <td>0.838029</td>\n",
       "      <td>2</td>\n",
       "      <td>1</td>\n",
       "      <td>185</td>\n",
       "    </tr>\n",
       "    <tr>\n",
       "      <th>55</th>\n",
       "      <td>s5477_1_1</td>\n",
       "      <td>13.3</td>\n",
       "      <td>M</td>\n",
       "      <td>0.933071</td>\n",
       "      <td>3</td>\n",
       "      <td>3</td>\n",
       "      <td>3</td>\n",
       "      <td>3</td>\n",
       "      <td>3</td>\n",
       "      <td>15</td>\n",
       "      <td>0.956317</td>\n",
       "      <td>2</td>\n",
       "      <td>1</td>\n",
       "      <td>215</td>\n",
       "    </tr>\n",
       "    <tr>\n",
       "      <th>56</th>\n",
       "      <td>s5477_1_2</td>\n",
       "      <td>17.7</td>\n",
       "      <td>M</td>\n",
       "      <td>0.947059</td>\n",
       "      <td>2</td>\n",
       "      <td>2</td>\n",
       "      <td>2</td>\n",
       "      <td>2</td>\n",
       "      <td>2</td>\n",
       "      <td>10</td>\n",
       "      <td>0.947972</td>\n",
       "      <td>2</td>\n",
       "      <td>1</td>\n",
       "      <td>349</td>\n",
       "    </tr>\n",
       "  </tbody>\n",
       "</table>\n",
       "</div>"
      ],
      "text/plain": [
       "          ppt   Age Sex  prop_TR_included  Human_Rep  Human_Nov  Sheep_Rep  \\\n",
       "0   s8687_1_5  17.1   F          1.000000          3          3          3   \n",
       "1   s8687_2_1  10.7   F          0.974684          3          2          3   \n",
       "4   s6687_1_5  18.1   F          1.000000          3          3          3   \n",
       "5   s4607_1_4  13.0   F          0.982353          2          2          2   \n",
       "6   s4607_1_6  16.9   F          1.000000          2          2          2   \n",
       "15  s6057_1_6  23.8   M          1.000000          2          2          2   \n",
       "21  s8037_1_2  12.2   F          0.976471          3          3          3   \n",
       "29  s7067_1_3   9.2   F          1.000000          3          3          3   \n",
       "39  s7047_1_2  17.6   F          1.000000          3          3          3   \n",
       "45  s3097_1_4  13.4   F          0.865546          3          3          2   \n",
       "55  s5477_1_1  13.3   M          0.933071          3          3          3   \n",
       "56  s5477_1_2  17.7   M          0.947059          2          2          2   \n",
       "\n",
       "    Sheep_Nov  Scenes_Nov  Total_blocks  eye_reliability  coder_num  \\\n",
       "0           3           3            15         0.976324          2   \n",
       "1           3           3            14         0.934509          2   \n",
       "4           3           3            15         0.974043          2   \n",
       "5           2           2            10         0.928697          2   \n",
       "6           2           2            10         0.970920          2   \n",
       "15          2           2            10         0.960978          2   \n",
       "21          3           3            15         0.934036          2   \n",
       "29          3           3            15         0.949309          3   \n",
       "39          3           3            15         0.957972          2   \n",
       "45          3           3            14         0.838029          2   \n",
       "55          3           3            15         0.956317          2   \n",
       "56          2           2            10         0.947972          2   \n",
       "\n",
       "    Post Lockdown Group  days_quarantine  \n",
       "0                     0                0  \n",
       "1                     1              244  \n",
       "4                     0                0  \n",
       "5                     0                0  \n",
       "6                     0                0  \n",
       "15                    1              213  \n",
       "21                    0                0  \n",
       "29                    0                0  \n",
       "39                    1              216  \n",
       "45                    1              185  \n",
       "55                    1              215  \n",
       "56                    1              349  "
      ]
     },
     "execution_count": 4,
     "metadata": {},
     "output_type": "execute_result"
    }
   ],
   "source": [
    "df = pd.read_csv(base_dir + 'data/RepetitionNarrowing/participant_information.csv',index_col=0)\n",
    "df"
   ]
  },
  {
   "cell_type": "code",
   "execution_count": 5,
   "id": "6bed92eb",
   "metadata": {},
   "outputs": [
    {
     "name": "stdout",
     "output_type": "stream",
     "text": [
      "Summary for Pre lockdown group:\n",
      "Data collected on session 1 = 0; session 2 = 1; session 3+: 5\n",
      "Mean Age: M= 14.416667 SD = 3.190306; range: 9.200000 -- 18.100000\n",
      "Mean Reliability: M= 0.955555 SD = 0.019290; range: 0.928697 -- 0.976324\n",
      "Mean TRs included after motion: M= 0.993137 SD = 0.009853; range: 0.976471 -- 1.000000\n",
      "Total number of blocks: M= 13.333333 SD = 2.357023; range: 10.000000 -- 15.000000\n",
      "\n",
      "Summary for Post lockdown group:\n",
      "Data collected on session 1 = 2; session 2 = 2; session 3+: 2\n",
      "Mean Age: M= 16.083333 SD = 4.250261; range: 10.700000 -- 23.800000\n",
      "Mean Reliability: M= 0.932630 SD = 0.043196; range: 0.838029 -- 0.960978\n",
      "Mean TRs included after motion: M= 0.953393 SD = 0.046490; range: 0.865546 -- 1.000000\n",
      "Total number of blocks: M= 13.000000 SD = 2.160247; range: 10.000000 -- 15.000000\n",
      "\n"
     ]
    }
   ],
   "source": [
    "# cycle through the two groups and report some averages\n",
    "pre_idxs=(np.array(df['Post Lockdown Group'])==0)\n",
    "post_idxs=(np.array(df['Post Lockdown Group'])==1)\n",
    "\n",
    "names=['Pre lockdown group','Post lockdown group']\n",
    "\n",
    "for i, ids in enumerate([pre_idxs,post_idxs]):\n",
    "    \n",
    "    print('Summary for %s:' %names[i])\n",
    "    \n",
    "    session_num=[]\n",
    "    for sub in df.ppt[ids]:\n",
    "        session_num.append(int(sub.split('_')[2]))\n",
    "    print('Data collected on session 1 = %d; session 2 = %d; session 3+: %d' %(sum(np.array(session_num)==1),\n",
    "                                                                              sum(np.array(session_num)==2),\n",
    "                                                                               sum(np.array(session_num)>2)))\n",
    "    print('Mean Age: M= %f SD = %f; range: %f -- %f' %(\n",
    "    np.nanmean(df.Age[ids]),np.nanstd(df.Age[ids]),\n",
    "    np.nanmin(df.Age[ids]),np.nanmax(df.Age[ids])))\n",
    "    \n",
    "    print('Mean Reliability: M= %f SD = %f; range: %f -- %f' %(\n",
    "    np.nanmean(df.eye_reliability[ids]),np.nanstd(df.eye_reliability[ids]),\n",
    "    np.nanmin(df.eye_reliability[ids]),np.nanmax(df.eye_reliability[ids])))\n",
    "          \n",
    "    print('Mean TRs included after motion: M= %f SD = %f; range: %f -- %f' %(\n",
    "    np.nanmean(df.prop_TR_included[ids]),np.nanstd(df.prop_TR_included[ids]),\n",
    "    np.nanmin(df.prop_TR_included[ids]),np.nanmax(df.prop_TR_included[ids]))) \n",
    "    \n",
    "    print('Total number of blocks: M= %f SD = %f; range: %f -- %f' %(\n",
    "    np.nanmean(df.Total_blocks[ids]),np.nanstd(df.Total_blocks[ids]),\n",
    "    np.nanmin(df.Total_blocks[ids]),np.nanmax(df.Total_blocks[ids]))) \n",
    "    \n",
    "    print()\n",
    "    "
   ]
  },
  {
   "cell_type": "code",
   "execution_count": 6,
   "id": "715f2bfa",
   "metadata": {},
   "outputs": [
    {
     "name": "stdout",
     "output_type": "stream",
     "text": [
      "Difference in pre and post for Age: -1.667, pval=0.442\n",
      "Difference in pre and post for eye_reliability: 0.023, pval=0.214\n",
      "Difference in pre and post for prop_TR_included: 0.040, pval=0.018\n",
      "Difference in pre and post for Total_blocks: 0.333, pval=0.732\n"
     ]
    }
   ],
   "source": [
    "np.random.seed(0)\n",
    "for val in ['Age','eye_reliability','prop_TR_included','Total_blocks']:  \n",
    "    pval,mean_diff,_=randomise_diff_2sample(np.array(df[val][pre_idxs]),np.array(df[val][post_idxs]))\n",
    "    print('Difference in pre and post for %s: %0.3f, pval=%0.3f' %(val,mean_diff,pval))        "
   ]
  },
  {
   "cell_type": "markdown",
   "id": "f4b431aa",
   "metadata": {},
   "source": [
    "## Behavioral analyses <a id='behavior'></a>"
   ]
  },
  {
   "cell_type": "markdown",
   "id": "b6add4ba",
   "metadata": {},
   "source": [
    "First: did infants attend differently during the blocks? (i.e., was looking at the image during habituation similar across groups?) What about their motion specifically during these blocks? (The above values reflect proportion TR included after motion excluded when considering all block types)"
   ]
  },
  {
   "cell_type": "code",
   "execution_count": 7,
   "id": "c85ba797",
   "metadata": {},
   "outputs": [
    {
     "name": "stdout",
     "output_type": "stream",
     "text": [
      "pre_lockdown Human_Adult; Novel prop TRs included: M=0.985 (SD=0.033)\n",
      "pre_lockdown Human_Adult; Novel looking: M=0.895 (SD=0.035)\n",
      "\n",
      "pre_lockdown Human_Adult; Repeat prop TRs included: M=0.997 (SD=0.007)\n",
      "pre_lockdown Human_Adult; Repeat looking: M=0.884 (SD=0.028)\n",
      "\n",
      "post_lockdown Human_Adult; Novel prop TRs included: M=0.971 (SD=0.042)\n",
      "post_lockdown Human_Adult; Novel looking: M=0.869 (SD=0.077)\n",
      "\n",
      "post_lockdown Human_Adult; Repeat prop TRs included: M=0.956 (SD=0.078)\n",
      "post_lockdown Human_Adult; Repeat looking: M=0.879 (SD=0.049)\n",
      "\n"
     ]
    }
   ],
   "source": [
    "# preset\n",
    "behavior_group=dict()\n",
    "tr_group=dict()\n",
    "\n",
    "# what are the group indices?\n",
    "group_idxs=[pre_idxs,post_idxs]\n",
    "\n",
    "# cycle through groups and conditions \n",
    "for i, group in enumerate(['pre_lockdown','post_lockdown']):\n",
    "    behavior_group[group]=dict()\n",
    "    tr_group[group]=dict()\n",
    "    \n",
    "    for c, condition in enumerate(['Human_Adult; Novel','Human_Adult; Repeat']):\n",
    "        \n",
    "        behavior_all=[]\n",
    "        included_trs_all=[]\n",
    "        \n",
    "        # cycle through participants\n",
    "        for ppt in df.ppt[group_idxs[i]]:\n",
    "            data_file = '%s/%s.mat' %(behav_dir,ppt)\n",
    "            behavior_mat = loadmat(data_file, struct_as_record=False)\n",
    "            \n",
    "            # only get the repeat blocks for this condition (2 or 3 blocks)\n",
    "            repeat_idxs=[i for i,j in enumerate(behavior_mat['Block_Names'][0]) if condition in j[0]]\n",
    "\n",
    "            all_prop_looking=[]\n",
    "            all_included_trs=[]\n",
    "            \n",
    "            # cycle through blocks and get the timing information \n",
    "            for idx in repeat_idxs:\n",
    "                timecourse=behavior_mat['Timecourse_all'][0][idx][0]\n",
    "                experiment_onset=behavior_mat['ExperimentOnsets'][0][idx][0][0]\n",
    "                fixation_onset=behavior_mat['FixationOnsets'][0][idx][0][0]\n",
    "                \n",
    "                # looking behavior during exposure\n",
    "                exposure_timecourse=timecourse[experiment_onset:fixation_onset]\n",
    "\n",
    "                # only add the behavioral data if this was useable in fMRI analysis\n",
    "                if behavior_mat['Included_TRs'][0][idx]>0.5:\n",
    "                    \n",
    "                    # calculate proportion looking to novel\n",
    "                    proportion_looking=np.sum(exposure_timecourse!=0)/len(exposure_timecourse)\n",
    "                    all_prop_looking.append(proportion_looking)\n",
    "                    all_included_trs.append(behavior_mat['Included_TRs'][0][idx])\n",
    "\n",
    "            #print(ppt,np.nanmean(proportion_looking))\n",
    "            behavior_all.append(np.nanmean(all_prop_looking))\n",
    "            included_trs_all.append(np.nanmean(all_included_trs))\n",
    "        \n",
    "        # report means\n",
    "        print('%s %s prop TRs included: M=%0.3f (SD=%0.3f)' %(group, condition, np.nanmean(included_trs_all),np.nanstd(included_trs_all)))\n",
    "        print('%s %s looking: M=%0.3f (SD=%0.3f)' %(group, condition, np.nanmean(behavior_all),np.nanstd(behavior_all)))\n",
    "        print()\n",
    "        \n",
    "        behavior_group[group][condition]=behavior_all\n",
    "        tr_group[group][condition]=included_trs_all"
   ]
  },
  {
   "cell_type": "code",
   "execution_count": 8,
   "id": "a90ac941",
   "metadata": {},
   "outputs": [
    {
     "name": "stdout",
     "output_type": "stream",
     "text": [
      "Difference in included TRs during Human_Adult; Novel: mean_diff=0.015, pval=0.484\n",
      "Difference in looking during Human_Adult; Novel: mean_diff=0.026, pval=0.524\n",
      "\n",
      "Difference in included TRs during Human_Adult; Repeat: mean_diff=0.041, pval=0.076\n",
      "Difference in looking during Human_Adult; Repeat: mean_diff=0.005, pval=0.860\n",
      "\n"
     ]
    }
   ],
   "source": [
    "# What is the difference between the two groups?\n",
    "np.random.seed(0)\n",
    "for c, condition in enumerate(['Human_Adult; Novel','Human_Adult; Repeat']):\n",
    "       \n",
    "    pval,mean_diff,_=randomise_diff_2sample(np.array(tr_group['pre_lockdown'][condition]),\n",
    "                           np.array(tr_group['post_lockdown'][condition]))\n",
    "    print('Difference in included TRs during %s: mean_diff=%0.3f, pval=%0.3f' %(condition,mean_diff,pval))     \n",
    "    \n",
    "    pval,mean_diff,_=randomise_diff_2sample(np.array(behavior_group['pre_lockdown'][condition]),\n",
    "                           np.array(behavior_group['post_lockdown'][condition]))\n",
    "    print('Difference in looking during %s: mean_diff=%0.3f, pval=%0.3f' %(condition,mean_diff,pval))        \n",
    "    print()"
   ]
  },
  {
   "cell_type": "markdown",
   "id": "c718038d",
   "metadata": {},
   "source": [
    "Main analysis: what was the looking behavior like during the VPC paired comparison test on blocks where habituation to individual identities was possible (Repeat blocks)?"
   ]
  },
  {
   "cell_type": "code",
   "execution_count": 9,
   "id": "25c50bcb",
   "metadata": {},
   "outputs": [
    {
     "name": "stdout",
     "output_type": "stream",
     "text": [
      "pre_lockdown Human_Adult: 0.584 [0.465,0.697], p=0.162\n",
      "pre_lockdown Sheep: 0.522 [0.396,0.639], p=0.726\n",
      "post_lockdown Human_Adult: 0.534 [0.468,0.584], p=0.278\n",
      "post_lockdown Sheep: 0.506 [0.419,0.581], p=0.890\n"
     ]
    },
    {
     "data": {
      "image/png": "[encoded data removed]",
      "text/plain": [
       "<Figure size 360x504 with 1 Axes>"
      ]
     },
     "metadata": {
      "needs_background": "light"
     },
     "output_type": "display_data"
    }
   ],
   "source": [
    "np.random.seed(0)\n",
    "\n",
    "# preset \n",
    "values=[]\n",
    "groups=[]\n",
    "conditions=[]\n",
    "sub_ages=[]\n",
    "\n",
    "# set up the figure\n",
    "fig=plt.figure(figsize=(5,7))\n",
    "\n",
    "# what are the group indices?\n",
    "group_idxs=[pre_idxs,post_idxs]\n",
    "\n",
    "# cycle through groups and conditions \n",
    "for i, group in enumerate(['pre_lockdown','post_lockdown']):\n",
    "    for c, condition in enumerate(['Human_Adult','Sheep']):\n",
    "        \n",
    "        behavior_all=[]\n",
    "        \n",
    "        # cycle through participants\n",
    "        for ppt in df.ppt[group_idxs[i]]:\n",
    "            data_file = '%s/%s.mat' %(behav_dir,ppt)\n",
    "            behavior_mat = loadmat(data_file, struct_as_record=False)\n",
    "            \n",
    "            # only get the repeat blocks for this condition (2 or 3 blocks)\n",
    "            repeat_idxs=[i for i,j in enumerate(behavior_mat['Block_Names'][0]) if condition+'; Repeated' in j[0]]\n",
    "\n",
    "            all_proportion_novel=[]\n",
    "            \n",
    "            # cycle through blocks and get the timing information \n",
    "            for idx in repeat_idxs:\n",
    "                timecourse=behavior_mat['Timecourse_all'][0][idx][0]\n",
    "                vpc_onset=behavior_mat['VPCOnsets'][0][idx][0][0]\n",
    "                vpc_offset=behavior_mat['VPCOffsets'][0][idx][0][0]\n",
    "                \n",
    "                # looking behavior just during the vpc\n",
    "                vpc_timecourse=timecourse[vpc_onset:vpc_offset]\n",
    "\n",
    "                if behavior_mat['Novel_Sides'][0][idx][0] == 'left':\n",
    "                    novel_side=1 # key code for left\n",
    "                    familiar_side=2 # key code for right\n",
    "                elif behavior_mat['Novel_Sides'][0][idx][0] == 'right':\n",
    "                    novel_side=2 # key code for right\n",
    "                    familiar_side=1 # key code for left\n",
    "\n",
    "                # only add the behavioral data if this was useable in fMRI analysis\n",
    "                if behavior_mat['Included_TRs'][0][idx]>0.5:\n",
    "                    \n",
    "                    # calculate proportion looking to novel\n",
    "                    proportion_novel=np.sum(vpc_timecourse==novel_side)/(np.sum(vpc_timecourse==familiar_side)\n",
    "                                                       +np.sum(vpc_timecourse==novel_side))\n",
    "                    all_proportion_novel.append(proportion_novel)\n",
    "\n",
    "            #print(ppt,np.nanmean(all_proportion_novel))\n",
    "            behavior_all.append(np.nanmean(all_proportion_novel))\n",
    "            \n",
    "            sub_ages.append(float(df.Age[df.ppt==ppt]))\n",
    "        \n",
    "        # save out the information for plotting \n",
    "        values.extend(behavior_all)\n",
    "        groups.extend(np.repeat(group,len(behavior_all)))\n",
    "        conditions.extend(np.repeat(condition,len(behavior_all)))\n",
    "        \n",
    "        # statistics\n",
    "        pval,CIs=bootstrap_mean(behavior_all,null_vall=0.5,nPerm=1000)\n",
    "        print('%s %s: %0.3f [%0.3f,%0.3f], p=%0.3f' %(group, condition, np.mean(behavior_all),CIs[0],CIs[1],pval))\n",
    "        \n",
    "        # add the error bars for our calcuation of bootstrapping\n",
    "        low_err=np.abs(np.mean(behavior_all)-CIs[0])\n",
    "        high_err=np.abs(np.mean(behavior_all)-CIs[1])\n",
    "\n",
    "        if c==0:\n",
    "            xval=[(i-0.2)]\n",
    "        else:\n",
    "            xval=[(i-0.2*(-c))]\n",
    "            \n",
    "        plt.errorbar(xval,\n",
    "             np.nanmean(behavior_all),\n",
    "                     yerr=np.expand_dims(np.array([low_err,high_err]),1),fmt='none',ecolor='k') #use our CI\n",
    "\n",
    "# make df for plotting\n",
    "df_rep_condition=pd.DataFrame({'group':groups,'condition':conditions,'proportion looking novel':values,'sub age':sub_ages})\n",
    "\n",
    "# plot! \n",
    "color='gist_earth'\n",
    "sns.barplot(x='group',y='proportion looking novel',hue='condition',data=df_rep_condition,\n",
    "            orient='v',ci=False,alpha=0.6,palette=color)\n",
    "sns.swarmplot(x='group',y='proportion looking novel',hue='condition',data=df_rep_condition,dodge=True,palette=color,size=6)\n",
    "plt.axhline(0.5,linestyle='--',color='k')\n",
    "plt.ylim(0,1)\n",
    "\n",
    "# save out the plot \n",
    "fig.savefig(save_plot_dir+'behavioral_results.svg')\n"
   ]
  },
  {
   "cell_type": "code",
   "execution_count": 10,
   "id": "5397fbd9",
   "metadata": {},
   "outputs": [
    {
     "name": "stdout",
     "output_type": "stream",
     "text": [
      "Difference in prop looking novel during Human_Adult: mean_diff=0.050, pval=0.466\n",
      "Difference in prop looking novel during Sheep: mean_diff=0.016, pval=0.848\n"
     ]
    }
   ],
   "source": [
    "# What is the difference between the two groups?\n",
    "np.random.seed(0)\n",
    "for c, condition in enumerate(['Human_Adult','Sheep']):\n",
    "    \n",
    "    pre_values=np.array(df_rep_condition[(df_rep_condition.group=='pre_lockdown')*\n",
    "                          (df_rep_condition.condition==condition)]['proportion looking novel'])\n",
    "\n",
    "    post_values=np.array(df_rep_condition[(df_rep_condition.group=='post_lockdown')*\n",
    "                          (df_rep_condition.condition==condition)]['proportion looking novel'])\n",
    "    \n",
    "    pval,mean_diff,_=randomise_diff_2sample(pre_values,\n",
    "                           post_values)\n",
    "    print('Difference in prop looking novel during %s: mean_diff=%0.3f, pval=%0.3f' %(condition,mean_diff,pval))        \n",
    "    "
   ]
  },
  {
   "cell_type": "markdown",
   "id": "ad7d1a46",
   "metadata": {},
   "source": [
    "## Human face processing in infant FFA  <a id='looFFA'></a>"
   ]
  },
  {
   "cell_type": "markdown",
   "id": "0bc92596",
   "metadata": {},
   "source": [
    "Using the FFA as our search space, find the top 5% of voxels in all but one participant for the contrast of human novel blocks vs. scene blocks. Then, find the zstat values for human novel blocks, human repeat blocks, and the contrast between them in those voxels for the held out participant. Finally, plot the results, separating pre and post lockdown group."
   ]
  },
  {
   "cell_type": "code",
   "execution_count": 11,
   "id": "934d7658",
   "metadata": {},
   "outputs": [],
   "source": [
    "# Load in the bilateral FFA mask that will be our search space\n",
    "roi_mask=nib.load('%s/intersect_%s.nii.gz' % (roi_dir,'bilateral_FFA'))\n",
    "roi_masker=NiftiMasker(roi_mask)\n",
    "roi_masker.fit(roi_mask)\n",
    "\n",
    "# What proportion of voxels in the FFA search space will you take? (Based on the highest face > scene contrast)\n",
    "prop_voxels=0.05 # 5% of the voxels \n",
    "\n",
    "# presets\n",
    "loo_values=[]\n",
    "age_groups=[]\n",
    "zstats_values=[]\n",
    "betas_used=[]\n",
    "voxels_used=np.zeros(roi_mask.shape)\n",
    "\n",
    "# presets for the results\n",
    "all_results=np.zeros((2,6,2)) # 2 groups x 6 subs x 2 contrasts (Just the Novel and Repeat)\n",
    "difference_values=np.zeros((2,6)) # 2 groups x 6 subs # This will be where we store the zstats of the contrast (zstat=1)\n",
    "\n",
    "# what are the group indices?\n",
    "group_idxs=[pre_idxs,post_idxs]\n",
    "\n",
    "for i, group in enumerate(['pre_lockdown','post_lockdown']):\n",
    "\n",
    "    ppt_results=[]\n",
    "    for p, ppt in enumerate(df.ppt[group_idxs[i]]):\n",
    "\n",
    "        # get the merged nii \n",
    "        nii = nib.load('%s/%s_merged_scene_face_zstat1.nii.gz' % (loo_dir, ppt))\n",
    "        masked=roi_masker.fit_transform(nii)*-1 # multiply by 1 so high values mean high face > scene \n",
    "        masked=np.nanmean(masked,axis=0) # Average over all other subjects \n",
    "        \n",
    "        # take the top percent of indices\n",
    "        top_indices=np.argsort(masked)[-round(len(masked)*prop_voxels):] \n",
    "\n",
    "        top_masked=np.zeros(masked.shape[0])\n",
    "        top_masked[top_indices]=1\n",
    "        \n",
    "        # save which voxels were used in this analysis, keeping their spatial coordinates\n",
    "        voxels_used+=roi_masker.inverse_transform(top_masked).get_fdata()\n",
    "\n",
    "        # save the beta values as well \n",
    "        top_betas=masked[top_masked==1]\n",
    "        betas_used+=[top_betas]\n",
    "\n",
    "        for z, zstat in enumerate(zstats):\n",
    "\n",
    "            nii=nib.load('%s/%s_%s_zstat%d.nii.gz' %(zstat_dir,ppt,'human_pairs',zstat))\n",
    "            heldout_betas=roi_masker.fit_transform(nii)[0,top_masked==1]\n",
    "            \n",
    "            # if it is not zstat 1, we save the values for plotting\n",
    "            if zstat!=1:\n",
    "                # append for plotting purposes\n",
    "                loo_values.append(np.nanmean(heldout_betas))\n",
    "                age_groups.append(group)\n",
    "                zstats_values.append(zstat)\n",
    "            \n",
    "                all_results[i,p,z]=np.nanmean(heldout_betas)\n",
    "            \n",
    "            # if it is zstat 1 (the contrast of novel and repeat), we will save elsewhere\n",
    "            # so it can be used for statistical testing\n",
    "            else: \n",
    "                difference_values[i,p]=np.nanmean(heldout_betas)\n",
    "                \n",
    "# make df for plotting purposes\n",
    "loo_df=pd.DataFrame({'values':loo_values,'zstat':zstats_values,'lockdown_group':age_groups})"
   ]
  },
  {
   "cell_type": "code",
   "execution_count": 12,
   "id": "0cbbee61",
   "metadata": {},
   "outputs": [
    {
     "name": "stdout",
     "output_type": "stream",
     "text": [
      "pre_lockdown novel: 1.185\n",
      "pre_lockdown repeat: 0.588\n",
      "pre_lockdown Human novel > repeated: 0.749 (-0.096 -- 1.648), p=0.088\n",
      "\n",
      "post_lockdown novel: 1.067\n",
      "post_lockdown repeat: 1.705\n",
      "post_lockdown Human novel > repeated: -0.749 (-1.522 -- -0.009), p=0.040\n",
      "\n",
      "Difference across groups: 1.499 (0.349 -- 2.701), p=0.006\n"
     ]
    },
    {
     "data": {
      "image/png": "[encoded data removed]",
      "text/plain": [
       "<Figure size 402.375x360 with 1 Axes>"
      ]
     },
     "metadata": {
      "needs_background": "light"
     },
     "output_type": "display_data"
    }
   ],
   "source": [
    "np.random.seed(0)\n",
    "show_lines=0 # do you want to show lines connecting the Repeat and Novel block values for the same subjects?\n",
    "\n",
    "# plot\n",
    "g = sns.catplot(x='lockdown_group',y='values',hue='zstat',data=loo_df,kind='bar',legend=True,\n",
    "                palette=colors[:,0], \n",
    "                alpha=0.8,ci=False)\n",
    "g.map_dataframe(sns.swarmplot, x='lockdown_group',y='values',hue='zstat', \n",
    "                dodge=True,palette=colors[:,0])\n",
    "\n",
    "# if show lines is 1, connects the points in the novel and repeat plots for each subject\n",
    "if show_lines==1:\n",
    "\n",
    "    for i in [0,1]:\n",
    "        for sub in range(all_results[i,:,:].shape[0]):\n",
    "            plt.plot([-0.2+i,0.2+i],[all_results[i,sub,0],all_results[i,sub,1]],color=\"silver\")\n",
    "\n",
    "# report statistics within group\n",
    "for i, group in enumerate(['pre_lockdown','post_lockdown']):\n",
    "    for z, contrast in enumerate(['novel','repeat']): \n",
    "        \n",
    "        # first, tell us about the means for the different contrasts\n",
    "        print('%s %s: %0.3f' % (group,contrast,np.nanmean(all_results[i,:,z])))\n",
    "    \n",
    "    # then use the zstat for the contrast (zstat=1) for statistics\n",
    "    pval,CIs=bootstrap_mean(np.array(difference_values[i,:]))\n",
    "    print('%s %s: %0.3f (%0.3f -- %0.3f), p=%0.3f' % (group,'Human novel > repeated',\n",
    "                                                      np.nanmean(np.array(difference_values[i,:])),\n",
    "                                                      CIs[0],CIs[1],pval))\n",
    "    draw_sig(pval,1,i,2.5)\n",
    "    print()\n",
    "    \n",
    "# what is the difference across groups? (using the zstat for the contrast)\n",
    "pval, mean_diff, CIs=randomise_diff_2sample(np.array(difference_values[0,:]), \n",
    "                                            np.array(difference_values[1,:]), \n",
    "                                            resample_num=10000)\n",
    "print('Difference across groups: %0.3f (%0.3f -- %0.3f), p=%0.3f' %(mean_diff,CIs[0],CIs[1],pval))\n",
    "draw_sig(pval,1,0.5,3)\n",
    "    \n",
    "g.savefig(save_plot_dir+'loo_bilateral_FFA_results.svg')\n"
   ]
  },
  {
   "cell_type": "code",
   "execution_count": 13,
   "id": "6d3552cd",
   "metadata": {},
   "outputs": [
    {
     "data": {
      "image/png": "[encoded data removed]",
      "text/plain": [
       "<Figure size 525.6x187.2 with 5 Axes>"
      ]
     },
     "metadata": {},
     "output_type": "display_data"
    }
   ],
   "source": [
    "# Show which voxels were used in this analysis \n",
    "voxels_nifti=nib.Nifti1Image(voxels_used,roi_mask.affine)\n",
    "fig=plotting.plot_stat_map(voxels_nifti,draw_cross=False,cut_coords=(-40,-46,-20),cmap='viridis')\n",
    "\n",
    "fig.add_contours(roi_mask,alpha=0.8,cmap='Greys')\n",
    "\n",
    "fig.savefig(save_plot_dir+'loo_bilateral_FFA_voxels.svg')"
   ]
  },
  {
   "cell_type": "markdown",
   "id": "e3d42c45",
   "metadata": {},
   "source": [
    "## Human face processing in broader ROIs <a id='human'></a>"
   ]
  },
  {
   "cell_type": "markdown",
   "id": "23430e3d",
   "metadata": {},
   "source": [
    "Finds and plots the zstat values for human novel blocks, human repeat blocks, and the contrast between them, using all voxels that make up different ROIs from the face processing meta-analysis retrieved from https://neurosynth.org/"
   ]
  },
  {
   "cell_type": "code",
   "execution_count": 14,
   "id": "ecf3b9a6",
   "metadata": {},
   "outputs": [
    {
     "data": {
      "image/png": "[encoded data removed]",
      "text/plain": [
       "<Figure size 525.6x187.2 with 5 Axes>"
      ]
     },
     "metadata": {},
     "output_type": "display_data"
    }
   ],
   "source": [
    "# upload the meta analysis roi \n",
    "meta_analysis=nib.load('%s/face_association-test_z_FDR_0.01.nii.gz' %roi_dir)\n",
    "\n",
    "# plot the meta analysis results\n",
    "fig=plotting.plot_stat_map(meta_analysis,draw_cross=False,cmap=plt.get_cmap('viridis'),\n",
    "                           cut_coords=(45,-45,-16),annotate=False,alpha=0.8,colorbar=True,vmax=16)\n",
    "\n",
    "# load the file that has all of the rois so the color palette works out \n",
    "all_rois = nib.load('%s/face_association_all_rois.nii.gz'%roi_dir) \n",
    "fig.add_contours(all_rois,cmap='plasma',alpha=0.8,threshold=0,filled=True,vmax=120)\n"
   ]
  },
  {
   "cell_type": "code",
   "execution_count": 15,
   "id": "70e5f3e8",
   "metadata": {
    "scrolled": false
   },
   "outputs": [
    {
     "name": "stdout",
     "output_type": "stream",
     "text": [
      "Loading files for face rois with human_pairs contrast (may take some time)\n",
      "Loaded bilateral_FFA\n",
      "Loaded bilateral_OFA\n",
      "Loaded bilateral_STS\n",
      "Loaded bilateral_Amyg\n",
      "Loaded rIFG_mask_1mm\n",
      "\n",
      "bilateral_FFA\n",
      "pre_lockdown: Novel > Repeat : 0.574 (-0.136 -- 1.282), p=0.124\n",
      "post_lockdown: Novel > Repeat : -0.751 (-1.337 -- -0.207), p=0.004\n",
      "Difference across groups: 1.325 (0.414 -- 2.279), p=0.004\n",
      "\n",
      "bilateral_OFA\n",
      "pre_lockdown: Novel > Repeat : 0.548 (-0.246 -- 1.371), p=0.202\n",
      "post_lockdown: Novel > Repeat : -0.397 (-1.024 -- 0.119), p=0.152\n",
      "Difference across groups: 0.946 (-0.024 -- 2.020), p=0.058\n",
      "\n",
      "bilateral_STS\n",
      "pre_lockdown: Novel > Repeat : 0.041 (-0.765 -- 0.727), p=0.846\n",
      "post_lockdown: Novel > Repeat : -1.211 (-1.859 -- -0.570), p=0.000\n",
      "Difference across groups: 1.251 (0.231 -- 2.300), p=0.018\n",
      "\n",
      "bilateral_Amyg\n",
      "pre_lockdown: Novel > Repeat : 0.481 (-0.245 -- 1.084), p=0.202\n",
      "post_lockdown: Novel > Repeat : -0.189 (-0.792 -- 0.383), p=0.552\n",
      "Difference across groups: 0.670 (-0.245 -- 1.572), p=0.157\n",
      "\n",
      "rIFG_mask_1mm\n",
      "pre_lockdown: Novel > Repeat : 0.286 (-0.328 -- 0.764), p=0.346\n",
      "post_lockdown: Novel > Repeat : -0.803 (-2.085 -- 0.274), p=0.230\n",
      "Difference across groups: 1.089 (-0.139 -- 2.433), p=0.083\n",
      "\n"
     ]
    },
    {
     "data": {
      "image/png": "[encoded data removed]",
      "text/plain": [
       "<Figure size 1080x360 with 5 Axes>"
      ]
     },
     "metadata": {
      "needs_background": "light"
     },
     "output_type": "display_data"
    }
   ],
   "source": [
    "# Run the analysis \n",
    "roi_results_human=roi_results_wrapper(temp_rois=rois,temp_colors=colors,\n",
    "                                      roi_group='face',glm_contrast='human_pairs',plot=True)"
   ]
  },
  {
   "cell_type": "markdown",
   "id": "dfcaaa65",
   "metadata": {},
   "source": [
    "Now, find and plot the zstat values for human novel blocks, human repeat blocks, and the contrast between them, using all voxels that make up different ROIs from two sensory meta-analyses: primary visual cortex and heschl's gyrus (primary auditory cortex)"
   ]
  },
  {
   "cell_type": "code",
   "execution_count": 16,
   "id": "a4d4e10a",
   "metadata": {},
   "outputs": [
    {
     "data": {
      "image/png": "[encoded data removed]",
      "text/plain": [
       "<Figure size 208.8x165.6 with 2 Axes>"
      ]
     },
     "metadata": {},
     "output_type": "display_data"
    },
    {
     "data": {
      "image/png": "[encoded data removed]",
      "text/plain": [
       "<Figure size 208.8x165.6 with 2 Axes>"
      ]
     },
     "metadata": {},
     "output_type": "display_data"
    }
   ],
   "source": [
    "# cycle through the other roi types \n",
    "for meta_name, roi_name in zip(['primary_visual','heschl_gyrus'],control_rois):\n",
    "    meta_analysis=nib.load('%s/%s_association-test_z_FDR_0.01.nii.gz' %(roi_dir,meta_name))\n",
    "\n",
    "    # plot the meta analysis results\n",
    "    fig=plotting.plot_stat_map(meta_analysis,draw_cross=False,cmap=plt.get_cmap('viridis'),\n",
    "                               display_mode='z',cut_coords=[4],annotate=False,alpha=0.8,\n",
    "                               colorbar=True,vmax=16,title=meta_name)\n",
    "\n",
    "    # load the file that has the spheres\n",
    "    all_rois = nib.load('%s/%s.nii.gz'%(roi_dir,roi_name)) \n",
    "    fig.add_contours(all_rois,cmap='plasma',alpha=0.8,threshold=0,filled=True,vmax=120)"
   ]
  },
  {
   "cell_type": "code",
   "execution_count": 17,
   "id": "1245decf",
   "metadata": {},
   "outputs": [
    {
     "name": "stdout",
     "output_type": "stream",
     "text": [
      "Loading files for sensory rois with human_pairs contrast (may take some time)\n",
      "Loaded V1_sphere_1mm\n",
      "Loaded bilateral_A1\n",
      "\n",
      "V1_sphere_1mm\n",
      "pre_lockdown: Novel > Repeat : 0.860 (0.250 -- 1.482), p=0.006\n",
      "post_lockdown: Novel > Repeat : -0.512 (-1.449 -- 0.293), p=0.334\n",
      "Difference across groups: 1.372 (0.308 -- 2.547), p=0.009\n",
      "\n",
      "bilateral_A1\n",
      "pre_lockdown: Novel > Repeat : 0.104 (-0.930 -- 1.115), p=0.862\n",
      "post_lockdown: Novel > Repeat : -0.735 (-1.539 -- 0.004), p=0.054\n",
      "Difference across groups: 0.839 (-0.449 -- 2.155), p=0.218\n",
      "\n"
     ]
    },
    {
     "data": {
      "image/png": "[encoded data removed]",
      "text/plain": [
       "<Figure size 1080x360 with 2 Axes>"
      ]
     },
     "metadata": {
      "needs_background": "light"
     },
     "output_type": "display_data"
    }
   ],
   "source": [
    "# Run the analysis \n",
    "control_roi_results_human=roi_results_wrapper(temp_rois=control_rois,temp_colors=control_colors,\n",
    "                    roi_group='sensory',glm_contrast='human_pairs',plot=True)"
   ]
  },
  {
   "cell_type": "markdown",
   "id": "2b655d55",
   "metadata": {},
   "source": [
    "## Sheep face processing in broader ROIs <a id='sheep'></a>"
   ]
  },
  {
   "cell_type": "markdown",
   "id": "235e8524",
   "metadata": {},
   "source": [
    "Finds and plots the zstat values for sheep novel blocks, sheep repeat blocks, and the contrast between them, using all voxels that make up different ROIs from the face processing meta-analysis"
   ]
  },
  {
   "cell_type": "code",
   "execution_count": 18,
   "id": "d93f8ffe",
   "metadata": {},
   "outputs": [
    {
     "name": "stdout",
     "output_type": "stream",
     "text": [
      "Loading files for face rois with sheep_pairs contrast (may take some time)\n",
      "Loaded bilateral_FFA\n",
      "Loaded bilateral_OFA\n",
      "Loaded bilateral_STS\n",
      "Loaded bilateral_Amyg\n",
      "Loaded rIFG_mask_1mm\n",
      "\n",
      "bilateral_FFA\n",
      "pre_lockdown: Novel > Repeat : 1.120 (0.622 -- 1.625), p=0.000\n",
      "post_lockdown: Novel > Repeat : 0.052 (-0.702 -- 1.013), p=0.962\n",
      "Difference across groups: 1.067 (-0.030 -- 1.995), p=0.054\n",
      "\n",
      "bilateral_OFA\n",
      "pre_lockdown: Novel > Repeat : 0.845 (0.518 -- 1.087), p=0.000\n",
      "post_lockdown: Novel > Repeat : 0.094 (-0.510 -- 0.773), p=0.798\n",
      "Difference across groups: 0.751 (0.001 -- 1.451), p=0.049\n",
      "\n",
      "bilateral_STS\n",
      "pre_lockdown: Novel > Repeat : 0.023 (-0.456 -- 0.563), p=0.956\n",
      "post_lockdown: Novel > Repeat : 0.121 (-0.519 -- 0.817), p=0.752\n",
      "Difference across groups: -0.098 (-0.954 -- 0.731), p=0.837\n",
      "\n",
      "bilateral_Amyg\n",
      "pre_lockdown: Novel > Repeat : 0.024 (-0.461 -- 0.562), p=0.968\n",
      "post_lockdown: Novel > Repeat : 0.178 (-0.380 -- 0.801), p=0.596\n",
      "Difference across groups: -0.154 (-0.930 -- 0.612), p=0.695\n",
      "\n",
      "rIFG_mask_1mm\n",
      "pre_lockdown: Novel > Repeat : 0.004 (-0.619 -- 0.632), p=0.960\n",
      "post_lockdown: Novel > Repeat : 0.129 (-1.027 -- 1.107), p=0.848\n",
      "Difference across groups: -0.125 (-1.378 -- 1.155), p=0.836\n",
      "\n"
     ]
    },
    {
     "data": {
      "image/png": "[encoded data removed]",
      "text/plain": [
       "<Figure size 1080x360 with 5 Axes>"
      ]
     },
     "metadata": {
      "needs_background": "light"
     },
     "output_type": "display_data"
    }
   ],
   "source": [
    "# Run the analysis \n",
    "face_roi_results_sheep=roi_results_wrapper(temp_rois=rois,temp_colors=colors,\n",
    "                    roi_group='face',glm_contrast='sheep_pairs',plot=True)"
   ]
  },
  {
   "cell_type": "markdown",
   "id": "130181f9",
   "metadata": {},
   "source": [
    "Now, find and plot the zstat values for sheep novel blocks, sheep repeat blocks, and the contrast between them, using all voxels that make up different ROIs from two sensory meta-analyses: primary visual cortex and heschl's gyrus (primary auditory cortex)"
   ]
  },
  {
   "cell_type": "code",
   "execution_count": 19,
   "id": "55ca6010",
   "metadata": {},
   "outputs": [
    {
     "name": "stdout",
     "output_type": "stream",
     "text": [
      "Loading files for sensory rois with sheep_pairs contrast (may take some time)\n",
      "Loaded V1_sphere_1mm\n",
      "Loaded bilateral_A1\n",
      "\n",
      "V1_sphere_1mm\n",
      "pre_lockdown: Novel > Repeat : 0.157 (-0.395 -- 0.675), p=0.574\n",
      "post_lockdown: Novel > Repeat : -0.038 (-0.916 -- 0.840), p=0.996\n",
      "Difference across groups: 0.195 (-0.846 -- 1.263), p=0.699\n",
      "\n",
      "bilateral_A1\n",
      "pre_lockdown: Novel > Repeat : -0.852 (-1.564 -- -0.021), p=0.038\n",
      "post_lockdown: Novel > Repeat : -0.119 (-0.733 -- 0.479), p=0.786\n",
      "Difference across groups: -0.733 (-1.663 -- 0.247), p=0.138\n",
      "\n"
     ]
    },
    {
     "data": {
      "image/png": "[encoded data removed]",
      "text/plain": [
       "<Figure size 1080x360 with 2 Axes>"
      ]
     },
     "metadata": {
      "needs_background": "light"
     },
     "output_type": "display_data"
    }
   ],
   "source": [
    "# run the analysis \n",
    "control_roi_results_human=roi_results_wrapper(temp_rois=control_rois,temp_colors=control_colors,\n",
    "                    roi_group='sensory',glm_contrast='sheep_pairs',plot=True)"
   ]
  }
 ],
 "metadata": {
  "kernelspec": {
   "display_name": "Python 3",
   "language": "python",
   "name": "python3"
  },
  "language_info": {
   "codemirror_mode": {
    "name": "ipython",
    "version": 3
   },
   "file_extension": ".py",
   "mimetype": "text/x-python",
   "name": "python",
   "nbconvert_exporter": "python",
   "pygments_lexer": "ipython3",
   "version": "3.7.10"
  }
 },
 "nbformat": 4,
 "nbformat_minor": 5
}
