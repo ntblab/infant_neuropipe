{
 "cells": [
  {
   "cell_type": "markdown",
   "metadata": {},
   "source": [
    "# Summary of participant information\n",
    "Find herein the scripts used to pull the relevant information from throughout the pipeline in order to review the data and preprocessing. For different pieces either the images will be opened directly or functions will be called from scripts/participant_summary_utils.py. This will print information for each run separately "
   ]
  },
  {
   "cell_type": "code",
   "execution_count": 3,
   "metadata": {},
   "outputs": [],
   "source": [
    "import os\n",
    "if any('participant_summary.ipynb' in s for s in os.listdir()): # Move in to the subject directory if necessary\n",
    "    os.chdir('../') \n",
    "import glob\n",
    "import numpy as np\n",
    "os.chdir('./scripts/'); from participant_summary_utils import *; os.chdir('..'); \n",
    "import matplotlib.pyplot as plt\n",
    "\n",
    "%matplotlib notebook"
   ]
  },
  {
   "cell_type": "markdown",
   "metadata": {},
   "source": [
    "## Run the analyses\n",
    "For each run perform the following analyses"
   ]
  },
  {
   "cell_type": "code",
   "execution_count": null,
   "metadata": {},
   "outputs": [],
   "source": [
    "# Get the run paths\n",
    "runs = glob.glob('analysis/firstlevel/pseudorun/*.nii.gz') + glob.glob('data/nifti/*_functional??.nii.gz')  # Work for both runs and pseudo runs\n",
    "\n",
    "for run in runs:\n",
    "    \n",
    "    # Pull out the run name\n",
    "    func_run = run[run.find('functional') + 10:run.find('.nii.gz')]\n",
    "    \n",
    "    print('#######################\\n#######################\\n##   functional%s    ##\\n#######################\\n#######################\\n' % func_run)\n",
    "    \n",
    "    # Generate descriptives about the run\n",
    "    generate_descriptives(func_run)\n",
    "    \n",
    "    # Summarise the feat folder\n",
    "    summarise_firstlevel(func_run)\n",
    "    \n",
    "    # Pull out information from the univariate folder\n",
    "    summarise_univariate(func_run)\n",
    "    \n",
    "    # Finish the run    \n",
    "    print('----------------------------\\n\\n')\n",
    "\n",
    "# Pull out the behavioral information\n",
    "summarise_behavior()\n",
    "    \n",
    "# Pull out the summarised data\n",
    "fig=summarise_secondlevel()  \n",
    "\n",
    "# Show the registration from highres to standard\n",
    "fig"
   ]
  },
  {
   "cell_type": "code",
   "execution_count": null,
   "metadata": {},
   "outputs": [],
   "source": []
  }
 ],
 "metadata": {
  "anaconda-cloud": {},
  "kernelspec": {
   "display_name": "Python 3",
   "language": "python",
   "name": "python3"
  },
  "language_info": {
   "codemirror_mode": {
    "name": "ipython",
    "version": 3
   },
   "file_extension": ".py",
   "mimetype": "text/x-python",
   "name": "python",
   "nbconvert_exporter": "python",
   "pygments_lexer": "ipython3",
   "version": "3.6.7"
  }
 },
 "nbformat": 4,
 "nbformat_minor": 1
}
